{
 "cells": [
  {
   "cell_type": "markdown",
   "id": "23f7c7cd",
   "metadata": {},
   "source": [
    "## Pre Processing"
   ]
  },
  {
   "cell_type": "code",
   "execution_count": 79,
   "id": "fd280d31",
   "metadata": {},
   "outputs": [],
   "source": [
    "import pandas as pd\n",
    "import numpy as np\n",
    "import matplotlib.pyplot as plt\n",
    "import seaborn as sns"
   ]
  },
  {
   "cell_type": "code",
   "execution_count": 80,
   "id": "04b80570",
   "metadata": {},
   "outputs": [],
   "source": [
    "df = pd.read_csv(\"10000seconds_logs.csv\")"
   ]
  },
  {
   "cell_type": "code",
   "execution_count": 81,
   "id": "4f622d34",
   "metadata": {},
   "outputs": [
    {
     "name": "stdout",
     "output_type": "stream",
     "text": [
      "20.0 70.0 960.0\n"
     ]
    }
   ],
   "source": [
    "mass1 = df[\"m1\"].iloc[0]\n",
    "mass2 = df[\"m2\"].iloc[0]\n",
    "width = df[\"width\"].iloc[0]\n",
    "df.drop(columns=[\"m1\", \"m2\", \"width\"], inplace=True)\n",
    "print(mass1, mass2, width)"
   ]
  },
  {
   "cell_type": "code",
   "execution_count": 82,
   "id": "40b1e91d",
   "metadata": {},
   "outputs": [
    {
     "data": {
      "text/plain": [
       "(5980, 5)"
      ]
     },
     "execution_count": 82,
     "metadata": {},
     "output_type": "execute_result"
    }
   ],
   "source": [
    "df.shape"
   ]
  },
  {
   "cell_type": "code",
   "execution_count": 83,
   "id": "7f1ac190",
   "metadata": {},
   "outputs": [
    {
     "data": {
      "text/html": [
       "<div>\n",
       "<style scoped>\n",
       "    .dataframe tbody tr th:only-of-type {\n",
       "        vertical-align: middle;\n",
       "    }\n",
       "\n",
       "    .dataframe tbody tr th {\n",
       "        vertical-align: top;\n",
       "    }\n",
       "\n",
       "    .dataframe thead th {\n",
       "        text-align: right;\n",
       "    }\n",
       "</style>\n",
       "<table border=\"1\" class=\"dataframe\">\n",
       "  <thead>\n",
       "    <tr style=\"text-align: right;\">\n",
       "      <th></th>\n",
       "      <th>v1</th>\n",
       "      <th>v2</th>\n",
       "      <th>time</th>\n",
       "      <th>ke</th>\n",
       "      <th>p</th>\n",
       "    </tr>\n",
       "  </thead>\n",
       "  <tbody>\n",
       "    <tr>\n",
       "      <th>0</th>\n",
       "      <td>800.0000</td>\n",
       "      <td>500.0000</td>\n",
       "      <td>0.0</td>\n",
       "      <td>1.515000e+07</td>\n",
       "      <td>51000.000</td>\n",
       "    </tr>\n",
       "    <tr>\n",
       "      <th>1</th>\n",
       "      <td>1222.2222</td>\n",
       "      <td>-77.7778</td>\n",
       "      <td>0.0</td>\n",
       "      <td>1.515000e+07</td>\n",
       "      <td>18999.998</td>\n",
       "    </tr>\n",
       "    <tr>\n",
       "      <th>2</th>\n",
       "      <td>800.0000</td>\n",
       "      <td>-500.0000</td>\n",
       "      <td>170.0</td>\n",
       "      <td>1.515000e+07</td>\n",
       "      <td>-19000.000</td>\n",
       "    </tr>\n",
       "    <tr>\n",
       "      <th>3</th>\n",
       "      <td>1222.2222</td>\n",
       "      <td>-77.7778</td>\n",
       "      <td>330.0</td>\n",
       "      <td>1.515000e+07</td>\n",
       "      <td>18999.998</td>\n",
       "    </tr>\n",
       "    <tr>\n",
       "      <th>4</th>\n",
       "      <td>800.0000</td>\n",
       "      <td>-500.0000</td>\n",
       "      <td>500.0</td>\n",
       "      <td>1.515000e+07</td>\n",
       "      <td>-19000.000</td>\n",
       "    </tr>\n",
       "  </tbody>\n",
       "</table>\n",
       "</div>"
      ],
      "text/plain": [
       "          v1        v2   time            ke          p\n",
       "0   800.0000  500.0000    0.0  1.515000e+07  51000.000\n",
       "1  1222.2222  -77.7778    0.0  1.515000e+07  18999.998\n",
       "2   800.0000 -500.0000  170.0  1.515000e+07 -19000.000\n",
       "3  1222.2222  -77.7778  330.0  1.515000e+07  18999.998\n",
       "4   800.0000 -500.0000  500.0  1.515000e+07 -19000.000"
      ]
     },
     "execution_count": 83,
     "metadata": {},
     "output_type": "execute_result"
    }
   ],
   "source": [
    "df.head()"
   ]
  },
  {
   "cell_type": "code",
   "execution_count": 84,
   "id": "b833f278",
   "metadata": {},
   "outputs": [
    {
     "name": "stdout",
     "output_type": "stream",
     "text": [
      "<class 'pandas.core.frame.DataFrame'>\n",
      "RangeIndex: 5980 entries, 0 to 5979\n",
      "Data columns (total 5 columns):\n",
      " #   Column  Non-Null Count  Dtype  \n",
      "---  ------  --------------  -----  \n",
      " 0   v1      5980 non-null   float64\n",
      " 1   v2      5980 non-null   float64\n",
      " 2   time    5980 non-null   float64\n",
      " 3   ke      5980 non-null   float64\n",
      " 4   p       5980 non-null   float64\n",
      "dtypes: float64(5)\n",
      "memory usage: 233.7 KB\n"
     ]
    }
   ],
   "source": [
    "df.info()"
   ]
  },
  {
   "cell_type": "code",
   "execution_count": 85,
   "id": "8da98d12",
   "metadata": {},
   "outputs": [
    {
     "data": {
      "text/html": [
       "<div>\n",
       "<style scoped>\n",
       "    .dataframe tbody tr th:only-of-type {\n",
       "        vertical-align: middle;\n",
       "    }\n",
       "\n",
       "    .dataframe tbody tr th {\n",
       "        vertical-align: top;\n",
       "    }\n",
       "\n",
       "    .dataframe thead th {\n",
       "        text-align: right;\n",
       "    }\n",
       "</style>\n",
       "<table border=\"1\" class=\"dataframe\">\n",
       "  <thead>\n",
       "    <tr style=\"text-align: right;\">\n",
       "      <th></th>\n",
       "      <th>v1</th>\n",
       "      <th>v2</th>\n",
       "      <th>time</th>\n",
       "      <th>ke</th>\n",
       "      <th>p</th>\n",
       "      <th>p1</th>\n",
       "      <th>p2</th>\n",
       "    </tr>\n",
       "  </thead>\n",
       "  <tbody>\n",
       "    <tr>\n",
       "      <th>0</th>\n",
       "      <td>800.0000</td>\n",
       "      <td>500.0000</td>\n",
       "      <td>0.0</td>\n",
       "      <td>1.515000e+07</td>\n",
       "      <td>51000.000</td>\n",
       "      <td>16000.000</td>\n",
       "      <td>35000.000</td>\n",
       "    </tr>\n",
       "    <tr>\n",
       "      <th>1</th>\n",
       "      <td>1222.2222</td>\n",
       "      <td>-77.7778</td>\n",
       "      <td>0.0</td>\n",
       "      <td>1.515000e+07</td>\n",
       "      <td>18999.998</td>\n",
       "      <td>24444.444</td>\n",
       "      <td>-5444.446</td>\n",
       "    </tr>\n",
       "    <tr>\n",
       "      <th>2</th>\n",
       "      <td>800.0000</td>\n",
       "      <td>-500.0000</td>\n",
       "      <td>170.0</td>\n",
       "      <td>1.515000e+07</td>\n",
       "      <td>-19000.000</td>\n",
       "      <td>16000.000</td>\n",
       "      <td>-35000.000</td>\n",
       "    </tr>\n",
       "    <tr>\n",
       "      <th>3</th>\n",
       "      <td>1222.2222</td>\n",
       "      <td>-77.7778</td>\n",
       "      <td>330.0</td>\n",
       "      <td>1.515000e+07</td>\n",
       "      <td>18999.998</td>\n",
       "      <td>24444.444</td>\n",
       "      <td>-5444.446</td>\n",
       "    </tr>\n",
       "    <tr>\n",
       "      <th>4</th>\n",
       "      <td>800.0000</td>\n",
       "      <td>-500.0000</td>\n",
       "      <td>500.0</td>\n",
       "      <td>1.515000e+07</td>\n",
       "      <td>-19000.000</td>\n",
       "      <td>16000.000</td>\n",
       "      <td>-35000.000</td>\n",
       "    </tr>\n",
       "  </tbody>\n",
       "</table>\n",
       "</div>"
      ],
      "text/plain": [
       "          v1        v2   time            ke          p         p1         p2\n",
       "0   800.0000  500.0000    0.0  1.515000e+07  51000.000  16000.000  35000.000\n",
       "1  1222.2222  -77.7778    0.0  1.515000e+07  18999.998  24444.444  -5444.446\n",
       "2   800.0000 -500.0000  170.0  1.515000e+07 -19000.000  16000.000 -35000.000\n",
       "3  1222.2222  -77.7778  330.0  1.515000e+07  18999.998  24444.444  -5444.446\n",
       "4   800.0000 -500.0000  500.0  1.515000e+07 -19000.000  16000.000 -35000.000"
      ]
     },
     "execution_count": 85,
     "metadata": {},
     "output_type": "execute_result"
    }
   ],
   "source": [
    "df[\"p1\"] = mass1 * df[\"v1\"]\n",
    "df[\"p2\"] = mass2 * df[\"v2\"]\n",
    "df.head()"
   ]
  },
  {
   "cell_type": "code",
   "execution_count": 86,
   "id": "6180caf8",
   "metadata": {},
   "outputs": [
    {
     "data": {
      "text/html": [
       "<div>\n",
       "<style scoped>\n",
       "    .dataframe tbody tr th:only-of-type {\n",
       "        vertical-align: middle;\n",
       "    }\n",
       "\n",
       "    .dataframe tbody tr th {\n",
       "        vertical-align: top;\n",
       "    }\n",
       "\n",
       "    .dataframe thead th {\n",
       "        text-align: right;\n",
       "    }\n",
       "</style>\n",
       "<table border=\"1\" class=\"dataframe\">\n",
       "  <thead>\n",
       "    <tr style=\"text-align: right;\">\n",
       "      <th></th>\n",
       "      <th>v1</th>\n",
       "      <th>v2</th>\n",
       "      <th>time</th>\n",
       "      <th>ke</th>\n",
       "      <th>p</th>\n",
       "      <th>p1</th>\n",
       "      <th>p2</th>\n",
       "    </tr>\n",
       "  </thead>\n",
       "  <tbody>\n",
       "    <tr>\n",
       "      <th>count</th>\n",
       "      <td>5980.000000</td>\n",
       "      <td>5980.000000</td>\n",
       "      <td>5980.000000</td>\n",
       "      <td>5.980000e+03</td>\n",
       "      <td>5980.000000</td>\n",
       "      <td>5980.000000</td>\n",
       "      <td>5980.000000</td>\n",
       "    </tr>\n",
       "    <tr>\n",
       "      <th>mean</th>\n",
       "      <td>1011.111100</td>\n",
       "      <td>-288.721676</td>\n",
       "      <td>499916.056856</td>\n",
       "      <td>1.515000e+07</td>\n",
       "      <td>11.704686</td>\n",
       "      <td>20222.222000</td>\n",
       "      <td>-20210.517314</td>\n",
       "    </tr>\n",
       "    <tr>\n",
       "      <th>std</th>\n",
       "      <td>211.128754</td>\n",
       "      <td>211.357416</td>\n",
       "      <td>288832.137629</td>\n",
       "      <td>2.111288e-01</td>\n",
       "      <td>19011.439913</td>\n",
       "      <td>4222.575073</td>\n",
       "      <td>14795.019098</td>\n",
       "    </tr>\n",
       "    <tr>\n",
       "      <th>min</th>\n",
       "      <td>800.000000</td>\n",
       "      <td>-500.000000</td>\n",
       "      <td>0.000000</td>\n",
       "      <td>1.515000e+07</td>\n",
       "      <td>-19000.000000</td>\n",
       "      <td>16000.000000</td>\n",
       "      <td>-35000.000000</td>\n",
       "    </tr>\n",
       "    <tr>\n",
       "      <th>25%</th>\n",
       "      <td>800.000000</td>\n",
       "      <td>-500.000000</td>\n",
       "      <td>250190.000000</td>\n",
       "      <td>1.515000e+07</td>\n",
       "      <td>-19000.000000</td>\n",
       "      <td>16000.000000</td>\n",
       "      <td>-35000.000000</td>\n",
       "    </tr>\n",
       "    <tr>\n",
       "      <th>50%</th>\n",
       "      <td>1011.111100</td>\n",
       "      <td>-77.777800</td>\n",
       "      <td>499845.000000</td>\n",
       "      <td>1.515000e+07</td>\n",
       "      <td>18999.998000</td>\n",
       "      <td>20222.222000</td>\n",
       "      <td>-5444.446000</td>\n",
       "    </tr>\n",
       "    <tr>\n",
       "      <th>75%</th>\n",
       "      <td>1222.222200</td>\n",
       "      <td>-77.777800</td>\n",
       "      <td>750052.500000</td>\n",
       "      <td>1.515000e+07</td>\n",
       "      <td>18999.998000</td>\n",
       "      <td>24444.444000</td>\n",
       "      <td>-5444.446000</td>\n",
       "    </tr>\n",
       "    <tr>\n",
       "      <th>max</th>\n",
       "      <td>1222.222200</td>\n",
       "      <td>500.000000</td>\n",
       "      <td>999950.000000</td>\n",
       "      <td>1.515000e+07</td>\n",
       "      <td>51000.000000</td>\n",
       "      <td>24444.444000</td>\n",
       "      <td>35000.000000</td>\n",
       "    </tr>\n",
       "  </tbody>\n",
       "</table>\n",
       "</div>"
      ],
      "text/plain": [
       "                v1           v2           time            ke             p  \\\n",
       "count  5980.000000  5980.000000    5980.000000  5.980000e+03   5980.000000   \n",
       "mean   1011.111100  -288.721676  499916.056856  1.515000e+07     11.704686   \n",
       "std     211.128754   211.357416  288832.137629  2.111288e-01  19011.439913   \n",
       "min     800.000000  -500.000000       0.000000  1.515000e+07 -19000.000000   \n",
       "25%     800.000000  -500.000000  250190.000000  1.515000e+07 -19000.000000   \n",
       "50%    1011.111100   -77.777800  499845.000000  1.515000e+07  18999.998000   \n",
       "75%    1222.222200   -77.777800  750052.500000  1.515000e+07  18999.998000   \n",
       "max    1222.222200   500.000000  999950.000000  1.515000e+07  51000.000000   \n",
       "\n",
       "                 p1            p2  \n",
       "count   5980.000000   5980.000000  \n",
       "mean   20222.222000 -20210.517314  \n",
       "std     4222.575073  14795.019098  \n",
       "min    16000.000000 -35000.000000  \n",
       "25%    16000.000000 -35000.000000  \n",
       "50%    20222.222000  -5444.446000  \n",
       "75%    24444.444000  -5444.446000  \n",
       "max    24444.444000  35000.000000  "
      ]
     },
     "execution_count": 86,
     "metadata": {},
     "output_type": "execute_result"
    }
   ],
   "source": [
    "df.describe()"
   ]
  },
  {
   "cell_type": "markdown",
   "id": "0de709c9",
   "metadata": {},
   "source": [
    "## Visualization"
   ]
  },
  {
   "cell_type": "code",
   "execution_count": 88,
   "id": "414d774a",
   "metadata": {},
   "outputs": [
    {
     "data": {
      "image/png": "[encoded data removed]",
      "text/plain": [
       "<Figure size 640x480 with 1 Axes>"
      ]
     },
     "metadata": {},
     "output_type": "display_data"
    }
   ],
   "source": [
    "sns.lineplot(x=\"time\", y=\"p\", data=df)\n",
    "plt.show()"
   ]
  }
 ],
 "metadata": {
  "kernelspec": {
   "display_name": "base",
   "language": "python",
   "name": "python3"
  },
  "language_info": {
   "codemirror_mode": {
    "name": "ipython",
    "version": 3
   },
   "file_extension": ".py",
   "mimetype": "text/x-python",
   "name": "python",
   "nbconvert_exporter": "python",
   "pygments_lexer": "ipython3",
   "version": "3.12.7"
  }
 },
 "nbformat": 4,
 "nbformat_minor": 5
}
